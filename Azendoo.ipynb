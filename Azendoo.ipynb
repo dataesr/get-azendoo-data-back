{
 "cells": [
  {
   "cell_type": "code",
   "execution_count": null,
   "id": "30fb548b",
   "metadata": {},
   "outputs": [],
   "source": [
    "from selenium import webdriver\n",
    "from selenium.webdriver.common.keys import Keys\n",
    "import datetime\n",
    "from bs4 import BeautifulSoup\n",
    "import time, os\n",
    "import pandas as pd"
   ]
  },
  {
   "cell_type": "code",
   "execution_count": null,
   "id": "e3909249",
   "metadata": {},
   "outputs": [],
   "source": [
    "driver = webdriver.Chrome()"
   ]
  },
  {
   "cell_type": "code",
   "execution_count": null,
   "id": "2959ff6d",
   "metadata": {},
   "outputs": [],
   "source": [
    "MY_WORK_SPACE = 'XXXXX'\n",
    "driver.get(f\"https://app.azendoo.com/#workspaces/{MY_WORK_SPACE}/conversations\")\n",
    "# login manually !"
   ]
  },
  {
   "cell_type": "code",
   "execution_count": null,
   "id": "e689ef9c",
   "metadata": {},
   "outputs": [],
   "source": [
    "# scroll down (as long as needed)\n",
    "from selenium.webdriver.common.keys import Keys\n",
    "from selenium.webdriver.common.by import By\n",
    "for i in range(0, 10):\n",
    "    html = driver.find_element(By.CLASS_NAME, 'fr-FR')\n",
    "    html.send_keys(Keys.END)\n",
    "    time.sleep(0.75)\n",
    "    if i%10==0:\n",
    "        print(i, end=',')\n",
    "        # display full messages\n",
    "        \n",
    "        for e in driver.find_elements(By.CLASS_NAME, 'u-text-small'):\n",
    "            if e.text in ['Afficher la suite']:\n",
    "                e.click()\n",
    "                time.sleep(0.1)\n",
    "                \n",
    "        for e in driver.find_elements(By.LINK_TEXT, 'Afficher les commentaires précédents')\n",
    "            e.click()\n",
    "            time.sleep(0.1)"
   ]
  },
  {
   "cell_type": "code",
   "execution_count": null,
   "id": "c61b844c",
   "metadata": {},
   "outputs": [],
   "source": [
    "conversations = driver.find_elements(By.CLASS_NAME, 'conversations-item')\n",
    "len(conversations)"
   ]
  },
  {
   "cell_type": "code",
   "execution_count": null,
   "id": "10d7bb1b",
   "metadata": {},
   "outputs": [],
   "source": [
    "def parse_conversation(conv, current_id, current_tab):\n",
    "    \n",
    "    if '000000000' in conv.text:\n",
    "        return None\n",
    "\n",
    "    author = conv.find_element(By.CLASS_NAME, 'conversations-item-author').text\n",
    "    try:\n",
    "        canal = conv.find_element(By.CLASS_NAME, 'link--action').text\n",
    "    except:\n",
    "        canal = 'Général'\n",
    "    try:\n",
    "        date = conv.find_element(By.CLASS_NAME, 'conversations-informations-date').text\n",
    "    except:\n",
    "        date = '2017-01-01'\n",
    "    try:\n",
    "        body = conv.find_element(By.CLASS_NAME, 'conversations-message-body').text\n",
    "    except:\n",
    "        return None\n",
    "    \n",
    "    elt = {'author': author, 'canal': canal, 'date': date, 'body': body}\n",
    "    \n",
    "    pjs, images, comments = None, None, None\n",
    "    pieces, img, all_comments = [], [], []\n",
    "    try:\n",
    "        pjs = conv.find_elements(By.CLASS_NAME, 'medias-list-simple-item-title') \n",
    "    except:\n",
    "        pass\n",
    "    if pjs:\n",
    "        for pj in pjs:\n",
    "            pj_title = pj.text\n",
    "            url = pj.get_attribute('href')\n",
    "            internal_title = f'{current_id}_{pj_title}'\n",
    "           \n",
    "            pieces.append({'pj_title': pj_title, 'file':internal_title, 'url': url})\n",
    "        elt['pj'] = pieces\n",
    "            \n",
    "    try:\n",
    "        images = conv.find_elements(By.CLASS_NAME, 'medias-list-simple-item-image-preview')  \n",
    "    except:\n",
    "        pass\n",
    "    if images:\n",
    "        for image in images:\n",
    "            try:\n",
    "                image_url = image.get_attribute('style').split(';')[0].split('\"')[1]\n",
    "                img.append({'url': image_url})\n",
    "            except:\n",
    "                pass\n",
    "        elt['images'] = img\n",
    "        #print(elt)\n",
    "        \n",
    "    try:\n",
    "        comments = conv.find_elements(By.CLASS_NAME, 'comments-content')\n",
    "    except:\n",
    "        pass\n",
    "    if comments:\n",
    "        for comment in comments:\n",
    "            try:\n",
    "                author = comment.find_element(By.CLASS_NAME, 'user-link').text\n",
    "                text = comment.find_element(By.CLASS_NAME, 'conversations-body').text\n",
    "                dt = comment.find_element(By.CLASS_NAME, 'text-muted').text\n",
    "                if text:\n",
    "                    all_comments.append({'author': author, 'text': text, 'date': dt[2:]})\n",
    "            except:\n",
    "                pass\n",
    "        if all_comments:\n",
    "            elt['comments'] = all_comments\n",
    "        \n",
    "    \n",
    "    return elt"
   ]
  },
  {
   "cell_type": "code",
   "execution_count": null,
   "id": "7b5f0cf6",
   "metadata": {},
   "outputs": [],
   "source": [
    "data_general = []\n",
    "current_tab = driver.window_handles[0]\n",
    "for current_id, conv in enumerate(conversations):\n",
    "    \n",
    "    if current_id % 10 == 0:\n",
    "        print(current_id, end=',')\n",
    "    #try:\n",
    "    elt = parse_conversation(conv, f'general_{current_id}', current_tab)\n",
    "    #except:\n",
    "    #    elt = None\n",
    "    \n",
    "    #print(elt)\n",
    "    if elt:\n",
    "        data_general.append(elt)\n",
    "    "
   ]
  },
  {
   "cell_type": "code",
   "execution_count": null,
   "id": "74b49255",
   "metadata": {},
   "outputs": [],
   "source": [
    "pd.DataFrame(data_general).to_json('data_azendoo.jsonl', lines=True, orient='records')"
   ]
  },
  {
   "cell_type": "code",
   "execution_count": null,
   "id": "d3827d27",
   "metadata": {},
   "outputs": [],
   "source": [
    "import requests\n",
    "def download_file(URL, target):\n",
    "    response = requests.get(URL)\n",
    "    open(target, \"wb\").write(response.content)"
   ]
  },
  {
   "cell_type": "code",
   "execution_count": null,
   "id": "d2743ded",
   "metadata": {},
   "outputs": [],
   "source": [
    "# download images\n",
    "import os\n",
    "os.mkdir('pj')\n",
    "\n",
    "for d in data_general:\n",
    "    for pj in d.get('images', []):\n",
    "        download_file(pj['url'], f\"pj/{pj['url'].split('/')[-1]}\")"
   ]
  },
  {
   "cell_type": "code",
   "execution_count": null,
   "id": "a9feb819",
   "metadata": {},
   "outputs": [],
   "source": [
    "# download attachments\n",
    "for d in data_general:\n",
    "    for pj in d.get('pj', []):\n",
    "        try:\n",
    "            download_file(pj['url'], f\"pj/{pj['file'].split('/')[-1]}\")\n",
    "        except:\n",
    "            print(pj['url'])"
   ]
  },
  {
   "cell_type": "code",
   "execution_count": null,
   "id": "dda30b97",
   "metadata": {},
   "outputs": [],
   "source": [
    "d"
   ]
  }
 ],
 "metadata": {
  "kernelspec": {
   "display_name": "Python 3",
   "language": "python",
   "name": "python3"
  },
  "language_info": {
   "codemirror_mode": {
    "name": "ipython",
    "version": 3
   },
   "file_extension": ".py",
   "mimetype": "text/x-python",
   "name": "python",
   "nbconvert_exporter": "python",
   "pygments_lexer": "ipython3",
   "version": "3.9.1"
  }
 },
 "nbformat": 4,
 "nbformat_minor": 5
}
